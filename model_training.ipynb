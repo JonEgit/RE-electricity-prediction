{
 "cells": [
  {
   "cell_type": "markdown",
   "metadata": {},
   "source": [
    "# Train a multivariat multi-output model for Solar and Windelectricity"
   ]
  },
  {
   "cell_type": "code",
   "execution_count": null,
   "metadata": {},
   "outputs": [],
   "source": [
    "\"\"\"\n",
    "Notebook to train and evaluate a stacked ensemble model for renewable electricity production forecasting.\n",
    "\n",
    "This notebook guides the user through the following steps:\n",
    "- Load preprocessed data for model training\n",
    "- Defines features and target variables for renewable electricity production (wind and solar PV).\n",
    "- Splits the data into training and test sets.\n",
    "- Scales the features using `RobustScaler` and saves the scaler as `robust_scaler_multivariate.pkl`.\n",
    "- Conducts hyperparameter tuning via randomized search for `RandomForestRegressor` and `XGBRegressor`.\n",
    "- Builds a stacked ensemble model using `StackingRegressor` with `Ridge` as the final estimator.\n",
    "- Wraps the ensemble model in `MultiOutputRegressor` to handle multiple targets.\n",
    "- Trains the final model and saves it as `stacked_multivariate_model.pkl` (~ 2-5 min depending on your machine).\n",
    "- Evaluates the model on training and test sets using MSE, R², and adjusted R² metrics (optionally RMSE, MAE can be added).\n",
    "\n",
    "Outputs:\n",
    "- `models/robust_scaler_multivariate.pkl`: Saved RobustScaler fitted to the training data for feature transformation.\n",
    "- `models/stacked_multivariate_model.pkl`: Saved trained stacked ensemble model.\n",
    "- Evaluation metrics printed in the console (for individual and combined targets).\n",
    "\n",
    "Dependencies:\n",
    "- pandas, numpy, scikit-learn, xgboost, joblib, tabulate\n",
    "\n",
    "Usage:\n",
    "- Execute the notebook cells in sequence.\n",
    "- Advise to keep the folderstructure to load the data and save the scaler and model. This is necessary for a functioning dashboard\n",
    "\"\"\""
   ]
  },
  {
   "cell_type": "markdown",
   "metadata": {},
   "source": [
    "### Imports"
   ]
  },
  {
   "cell_type": "code",
   "execution_count": null,
   "metadata": {},
   "outputs": [],
   "source": [
    "import pandas as pd\n",
    "import numpy as np\n",
    "from tabulate import tabulate\n",
    "\n",
    "# modeling\n",
    "from sklearn.model_selection import train_test_split, RandomizedSearchCV\n",
    "from sklearn.preprocessing import RobustScaler\n",
    "from sklearn.ensemble import RandomForestRegressor, StackingRegressor\n",
    "from sklearn.linear_model import LinearRegression, Ridge\n",
    "from xgboost import XGBRegressor\n",
    "from sklearn.multioutput import MultiOutputRegressor\n",
    "# mean_absolute_error only necessary if the option is added\n",
    "from sklearn.metrics import mean_squared_error, r2_score, mean_absolute_error\n",
    "import joblib"
   ]
  },
  {
   "cell_type": "markdown",
   "metadata": {},
   "source": [
    "### Load Data"
   ]
  },
  {
   "cell_type": "code",
   "execution_count": null,
   "metadata": {},
   "outputs": [],
   "source": [
    "# load already preprocessed data (weather and energy features)\n",
    "df_wind_solar = pd.read_csv('data/df_clean_for_modeling_with_offshore_3y.csv', sep = ',')\n",
    "# combine offshore and onshore wind contribution (needed for this model)\n",
    "df_wind_solar['windpower'] = df_wind_solar.offshore_wind + df_wind_solar.onshore_wind"
   ]
  },
  {
   "cell_type": "markdown",
   "metadata": {},
   "source": [
    "### Feature Selection and Train/Test-Split"
   ]
  },
  {
   "cell_type": "code",
   "execution_count": null,
   "metadata": {},
   "outputs": [],
   "source": [
    "# Specify features and target variables\n",
    "features = [\n",
    "    'temperature_2m_max', 'temperature_2m_min', 'temp_diff_2m',\n",
    "    'apparent_temperature_max', 'apparent_temperature_min', 'apparent_temp_diff',\n",
    "    'daylight_duration', 'sunshine_duration', 'precipitation_sum',\n",
    "    'precipitation_hours', 'snowfall_sum', 'shortwave_radiation_sum',\n",
    "    'wind_speed_10m', 'wind_direction_10m', 'wind_gusts_10m_max'\n",
    "]\n",
    "\n",
    "targets = ['windpower', 'solar_pv']\n",
    "\n",
    "# Split the data into features (X) and targets (y)\n",
    "X = df_wind_solar[features]\n",
    "y = df_wind_solar[targets]\n",
    "\n",
    "# Split the dataset into training and testing sets\n",
    "X_train, X_test, y_train, y_test = train_test_split(X, y, test_size=0.2, random_state=42)"
   ]
  },
  {
   "cell_type": "markdown",
   "metadata": {},
   "source": [
    "### Apply and Save Scaler"
   ]
  },
  {
   "cell_type": "code",
   "execution_count": null,
   "metadata": {},
   "outputs": [],
   "source": [
    "# Apply RobustScaler to features (fit on training data only and apply on test data)\n",
    "scaler = RobustScaler()\n",
    "X_train_scaled = scaler.fit_transform(X_train)\n",
    "X_test_scaled = scaler.transform(X_test)\n",
    "\n",
    "# Save the scaler for later use in given folder structure\n",
    "joblib.dump(scaler, 'models/robust_scaler_multivariate.pkl')"
   ]
  },
  {
   "cell_type": "markdown",
   "metadata": {},
   "source": [
    "### Hyperparametertuning, Train & Save the Model"
   ]
  },
  {
   "cell_type": "code",
   "execution_count": null,
   "metadata": {},
   "outputs": [],
   "source": [
    "# this cell takes about 2 - 5 minutes, depending on your machine\n",
    "\n",
    "# Perform Randomized Search for RandomForestRegressor\n",
    "rf_param_dist = {\n",
    "    'n_estimators': [100, 200, 500, 1000],\n",
    "    'max_depth': [10, 15, 20, None],\n",
    "    'min_samples_split': [2, 5, 10],\n",
    "    'min_samples_leaf': [1, 2, 4],\n",
    "    'bootstrap': [True, False]\n",
    "}\n",
    "random_search_rf = RandomizedSearchCV(estimator=RandomForestRegressor(random_state=42),\n",
    "                                      param_distributions=rf_param_dist,\n",
    "                                      n_iter=20, cv=3, verbose=2, random_state=42, n_jobs=-1)\n",
    "random_search_rf.fit(X_train_scaled, y_train)\n",
    "best_rf = random_search_rf.best_estimator_\n",
    "print(\"Best Parameters for RandomForestRegressor:\", random_search_rf.best_params_)\n",
    "\n",
    "# Perform Randomized Search for XGBRegressor\n",
    "xgb_param_dist = {\n",
    "    'n_estimators': [100, 200, 500],\n",
    "    'learning_rate': [0.01, 0.05, 0.1, 0.2],\n",
    "    'max_depth': [3, 5, 7, 10],\n",
    "    'subsample': [0.6, 0.8, 1.0],\n",
    "    'colsample_bytree': [0.6, 0.8, 1.0]\n",
    "}\n",
    "random_search_xgb = RandomizedSearchCV(estimator=XGBRegressor(random_state=42),\n",
    "                                        param_distributions=xgb_param_dist,\n",
    "                                        n_iter=20, cv=3, verbose=2, random_state=42, n_jobs=-1)\n",
    "random_search_xgb.fit(X_train_scaled, y_train)\n",
    "best_xgb = random_search_xgb.best_estimator_\n",
    "print(\"Best Parameters for XGBRegressor:\", random_search_xgb.best_params_)\n",
    "\n",
    "# Initialize base models for stacking with tuned hyperparameters\n",
    "base_models = [\n",
    "    ('random_forest', best_rf),\n",
    "    ('xgboost', best_xgb),\n",
    "    ('linear_regression', LinearRegression())\n",
    "]\n",
    "\n",
    "# Create a multivariate Stacking Regressor\n",
    "stacked_model = StackingRegressor(estimators=base_models, final_estimator=Ridge(alpha=0.1))\n",
    "\n",
    "# Use MultiOutputRegressor to handle multiple target variables\n",
    "multi_output_model = MultiOutputRegressor(stacked_model)\n",
    "\n",
    "# Fit the model to the training data\n",
    "multi_output_model.fit(X_train_scaled, y_train)\n",
    "\n",
    "# Save the multi-output model for later use\n",
    "joblib.dump(multi_output_model, 'models/stacked_multivariate_model.pkl')"
   ]
  },
  {
   "cell_type": "markdown",
   "metadata": {},
   "source": [
    "### Train & Testset: Prediction and Evaluation "
   ]
  },
  {
   "cell_type": "code",
   "execution_count": null,
   "metadata": {},
   "outputs": [],
   "source": [
    "# Prediction on scaled training data\n",
    "y_train_pred = multi_output_model.predict(X_train_scaled)\n",
    "\n",
    "# Evaluate the model on the training set\n",
    "train_mse = mean_squared_error(y_train, y_train_pred, multioutput='raw_values')\n",
    "# train_rmse = np.sqrt(train_mse)\n",
    "# train_mae = mean_absolute_error(y_train, y_train_pred, multioutput='raw_values')\n",
    "train_r2 = r2_score(y_train, y_train_pred, multioutput='raw_values')\n",
    "n_train = X_train_scaled.shape[0]\n",
    "p_train = X_train_scaled.shape[1]\n",
    "train_adj_r2 = 1 - (1 - train_r2) * ((n_train - 1) / (n_train - p_train - 1))\n",
    "    \n",
    "# Prediction on scaled test data\n",
    "y_test_pred = multi_output_model.predict(X_test_scaled)\n",
    "\n",
    "# Evaluate the model on the test set\n",
    "test_mse = mean_squared_error(y_test, y_test_pred, multioutput='raw_values')\n",
    "# test_rmse = np.sqrt(test_mse)\n",
    "# test_mae = mean_absolute_error(y_test, y_test_pred, multioutput='raw_values')\n",
    "test_r2 = r2_score(y_test, y_test_pred, multioutput='raw_values')\n",
    "n_test = X_test_scaled.shape[0]\n",
    "p_test = X_test_scaled.shape[1]\n",
    "test_adj_r2 = 1 - (1 - test_r2) * ((n_test - 1) / (n_test - p_test - 1))\n",
    "\n",
    "# Print evaluation metrics for each target\n",
    "for i, target in enumerate(targets):\n",
    "    print(f\"\\nMetrics for {target}:\")\n",
    "    print(f\"Train MSE: {train_mse[i]:.4f}\")\n",
    "    print(f\"Test MSE: {test_mse[i]:.4f}\")\n",
    "    print(f\"Train R^2: {train_r2[i]:.4f}\")\n",
    "    print(f\"Test R^2: {test_r2[i]:.4f}\")\n",
    "\n",
    "# Calculate combined R² and Adjusted R² for training data\n",
    "combined_train_r2 = r2_score(y_train, y_train_pred)\n",
    "adjusted_r2_train_combined = 1 - (1 - combined_train_r2) * ((n_train - 1) / (n_train - p_train - 1))\n",
    "\n",
    "# Calculate combined R² and Adjusted R² for test data\n",
    "combined_test_r2 = r2_score(y_test, y_test_pred)\n",
    "adjusted_r2_test_combined = 1 - (1 - combined_test_r2) * ((n_test - 1) / (n_test - p_test - 1))\n",
    "\n",
    "# Print combined evaluation metrics for all target variables\n",
    "print(\"\\nCombined Evaluation Metrics for All Target Variables:\")\n",
    "print(f\"Combined R² (Train): {combined_train_r2:.4f}\")\n",
    "print(f\"Combined Adjusted R² (Train): {adjusted_r2_train_combined:.4f}\")\n",
    "print(f\"Combined R² (Test): {combined_test_r2:.4f}\")\n",
    "print(f\"Combined Adjusted R² (Test): {adjusted_r2_test_combined:.4f}\")\n",
    "\n",
    "# Print individual evaluation metrics for each target in a table format\n",
    "headers = [\n",
    "    \"Target\", \"MSE (Train)\", \"MSE (Test)\", \"R^2 (Train)\", \"R^2 (Test)\", \"Adjusted R^2 (Train)\", \"Adjusted R^2 (Test)\"\n",
    "]\n",
    "rows = []\n",
    "\n",
    "for i, target in enumerate(targets):\n",
    "    rows.append([\n",
    "        target,\n",
    "        train_mse[i],\n",
    "        test_mse[i],\n",
    "        train_r2[i],\n",
    "        test_r2[i],\n",
    "        train_adj_r2[i],\n",
    "        test_adj_r2[i]\n",
    "    ])\n",
    "\n",
    "# Print the individual evaluation metrics in a table format\n",
    "print(\"\\n\" + tabulate(rows, headers=headers, tablefmt=\"simple\"))"
   ]
  }
 ],
 "metadata": {
  "kernelspec": {
   "display_name": ".venv",
   "language": "python",
   "name": "python3"
  },
  "language_info": {
   "codemirror_mode": {
    "name": "ipython",
    "version": 3
   },
   "file_extension": ".py",
   "mimetype": "text/x-python",
   "name": "python",
   "nbconvert_exporter": "python",
   "pygments_lexer": "ipython3",
   "version": "3.11.3"
  }
 },
 "nbformat": 4,
 "nbformat_minor": 2
}
